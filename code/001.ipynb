{
 "cells": [
  {
   "cell_type": "code",
   "execution_count": null,
   "metadata": {
    "vscode": {
     "languageId": "cpp"
    }
   },
   "outputs": [],
   "source": [
    "//\n",
    "// Created by Ovalene on 2022/12/12.\n",
    "//\n",
    "#include<iostream>\n",
    "\n",
    "using namespace std;\n",
    "struct stu{\n",
    "    string name;\n",
    "    int g1 = 0,g2 = 0,g3 = 0;\n",
    "    int sum;\n",
    "};\n",
    "int main(){\n",
    "    int n = 20;\n",
    "    stu student[n];\n",
    "    int i = 0;\n",
    "    cin>>student[i].name>>student[i].g1>>student[i].g2>>student[i].g3;\n",
    "    for(int i  = 0;i<n;i++){\n",
    "        cin>>student[i].name>>student[i].g1>>student[i].g2>>student[i].g3;\n",
    "        student[i].sum = student[i].g1+student[i].g2+student[i].g3;\n",
    "    }\n",
    "    for(int i = 0;i<n-1;i++){\n",
    "        for(int j= 0;j<n-i-1;j++) {\n",
    "            if (student[j].sum < student[j + 1].sum) {\n",
    "                int temp = student[j + 1].sum;\n",
    "                student[j + 1].sum = student[j].sum;\n",
    "                student[j].sum = temp;\n",
    "                string temps = student[j + 1].name;\n",
    "                student[j + 1].name = student[j].name;\n",
    "                student[j].name = temps;\n",
    "            }\n",
    "        }\n",
    "    }\n",
    "    cout<<student[0].name<<\" \"<<student[0].sum;\n",
    "}"
   ]
  }
 ],
 "metadata": {
  "language_info": {
   "name": "python"
  },
  "orig_nbformat": 4
 },
 "nbformat": 4,
 "nbformat_minor": 2
}
