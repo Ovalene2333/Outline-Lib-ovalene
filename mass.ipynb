{
 "cells": [
  {
   "cell_type": "code",
   "execution_count": 2,
   "metadata": {},
   "outputs": [],
   "source": [
    "import numpy as np"
   ]
  },
  {
   "cell_type": "code",
   "execution_count": 3,
   "metadata": {},
   "outputs": [],
   "source": [
    "mat = np.array([[4,-3],[-1,6]])"
   ]
  },
  {
   "cell_type": "code",
   "execution_count": 5,
   "metadata": {},
   "outputs": [
    {
     "data": {
      "text/plain": [
       "array([[ 17, -18],\n",
       "       [-18,  45]])"
      ]
     },
     "execution_count": 5,
     "metadata": {},
     "output_type": "execute_result"
    }
   ],
   "source": [
    "np.dot(mat.T,mat)"
   ]
  },
  {
   "cell_type": "code",
   "execution_count": 3,
   "metadata": {},
   "outputs": [
    {
     "name": "stdout",
     "output_type": "stream",
     "text": [
      "输入的牛顿法初值:-1.00000\n",
      "牛顿法的根:0.77605\n",
      "输入的弦截法初值:5.00000,9.00000\n",
      "割线法的根:0.77605\n"
     ]
    }
   ],
   "source": [
    "def newton_method(f, df, x0, tol=1e-3, max_iter=100):\n",
    "    for i in range(max_iter):\n",
    "        x1 = x0 - f(x0) / df(x0)\n",
    "        if abs(x1 - x0) < tol:\n",
    "            return x1\n",
    "        x0 = x1\n",
    "    raise ValueError(\"Newton's method did not converge\")\n",
    "\n",
    "def secant_method(f, x0, x1, tol=1e-3, max_iter=100):\n",
    "    for i in range(max_iter):\n",
    "        x2 = x1 - (f(x1) * (x1 - x0)) / (f(x1) - f(x0))\n",
    "        if abs(x2 - x1) < tol:\n",
    "            return x2\n",
    "        x0, x1 = x1, x2\n",
    "    raise ValueError(\"Secant method did not converge\")\n",
    "\n",
    "def f(x):\n",
    "    return x**3 + 2*x**2 + 3*x - 4\n",
    "def df(x):\n",
    "    return 3*x**2 + 4*x + 3\n",
    "\n",
    "x0 = float(input('请输入牛顿法初值'))\n",
    "print(f\"输入的牛顿法初值:{x0:.5f}\", )\n",
    "root_newton = newton_method(f, df, x0)\n",
    "print(f\"牛顿法的根:{root_newton:.5f}\")\n",
    "\n",
    "x1 = float(input('请输入弦截法初值1'))\n",
    "x2 = float(input('请输入弦截法初值2'))\n",
    "print(f\"输入的弦截法初值:{x1:.5f},{x2:.5f}\")\n",
    "root_secant = secant_method(f, x1, x2)\n",
    "print(f\"割线法的根:{root_secant:.5f}\")"
   ]
  }
 ],
 "metadata": {
  "kernelspec": {
   "display_name": "ai-0",
   "language": "python",
   "name": "python3"
  },
  "language_info": {
   "codemirror_mode": {
    "name": "ipython",
    "version": 3
   },
   "file_extension": ".py",
   "mimetype": "text/x-python",
   "name": "python",
   "nbconvert_exporter": "python",
   "pygments_lexer": "ipython3",
   "version": "3.9.12"
  },
  "orig_nbformat": 4
 },
 "nbformat": 4,
 "nbformat_minor": 2
}
