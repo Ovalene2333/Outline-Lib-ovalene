{
 "cells": [
  {
   "cell_type": "code",
   "execution_count": null,
   "metadata": {
    "vscode": {
     "languageId": "shellscript"
    }
   },
   "outputs": [],
   "source": [
    "((mecha:2.0,mecha-style wings:1.8)),((simple background:2.0,blurry background:1.5,photo realistic:2.0)),(wariza:2.0,holding arms:1.5),(((bare back,ass))),((solo:1.8,enjoyed face:1.5,after sex:2.0,blush:1.5)), ((hose:1.8)),((liquid on body:1.5)),((ponytails)), ((white plugsuit)), ((black clothes)), ((looking at viewer:1.4,close-up)), (multicolored hair:1.2,white hair, blue eyes,long hair, medium breast), ((hairclip))"
   ]
  },
  {
   "cell_type": "code",
   "execution_count": null,
   "metadata": {
    "vscode": {
     "languageId": "shellscript"
    }
   },
   "outputs": [],
   "source": [
    "((mecha:2.0,mecha-style wings:2.0)),((simple background:2.0,blurry background:1.6,photo realistic:2.0)),(wariza:2.0,holding arms:1.5),(((bare back,ass))),((solo:1.8,enjoyed face:1.5,blush:1.5)), ((hose:1.8)),((liquid on body:1.5)),((ponytails)), ((white plugsuit)), ((black clothes)), ((looking at viewer:1.6)), ((close-up)), (multicolored hair:1.2,white hair, blue eyes,long hair, medium breast), ((hairclip, ribbons, cat ears))"
   ]
  },
  {
   "cell_type": "code",
   "execution_count": null,
   "metadata": {
    "vscode": {
     "languageId": "shellscript"
    }
   },
   "outputs": [],
   "source": [
    "((mecha:2.0, metal-style mecha wings:2.0)), ((simple background:2.0, blurry background:1.6, photo realistic:2.0)), (wariza:2.0,holding arms:1.5), (((bare back, ass))), ((solo:1.8, enjoyed face:1.5, blush:1.5)), ((hose:1.8)),((liquid on body:1.5)), ((ponytails)), ((white plugsuit)), ((black clothes)), ((looking at viewer:1.6)), ((close-up)), (multicolored hair:1.2,white hair, blue eyes,long hair, medium breast), ((hairclip, ribbons, cat ears))"
   ]
  },
  {
   "cell_type": "code",
   "execution_count": null,
   "metadata": {
    "vscode": {
     "languageId": "shellscript"
    }
   },
   "outputs": [],
   "source": [
    "((mecha:2.0, metal-style mecha wings:2.0)), ((simple background:2.0, blurry background:1.6, photo realistic:2.0)), (wariza:2.0,holding arms:1.5), (((bare back, ass))), ((solo:1.8, enjoyed face:1.5, blush:1.5)), ((hose:1.8)),((liquid on body:1.5)), ((ponytails)), ((white plugsuit)), ((black clothes)), ((looking at viewer:1.6)), ((close-up)), (multicolored hair:1.2,white hair, blue eyes,long hair, medium breast), ((see-through skirt, hairclip, ribbons, cat ears))"
   ]
  },
  {
   "cell_type": "code",
   "execution_count": null,
   "metadata": {
    "vscode": {
     "languageId": "shellscript"
    }
   },
   "outputs": [],
   "source": [
    "((mecha:2.0, mecha wings:2.0)), ((simple background:2.0, blurry background:1.6, photo realistic:2.0)), ((sitting:2.0,holding arms:1.5)), (bare back:1.6, ass:2.0), ((solo:1.8, endured face:1.5, blush:1.5)), ((hose:2.0, wire:1.6)),((liquid on body:1.5)), ((ponytails)), ((white plugsuit)), ((black clothes)), (looking at viewer:1.5), ((close-up)), (multicolored hair:1.2,white hair, blue eyes,long hair, medium breast), ((see-through skirt:1.5, hairclip, ribbons, cat ears))"
   ]
  },
  {
   "cell_type": "code",
   "execution_count": null,
   "metadata": {
    "vscode": {
     "languageId": "shellscript"
    }
   },
   "outputs": [],
   "source": [
    "(((mecha:2.0, hose on back:1.8))), (simple background:2.0, blurry background:1.6, photo realistic:2.0), ((((facing away, wariza)))), ((sitting:2.0, barefoot:1.6)), (bare back:1.6, ass:2.0), ((solo:2.0, naughty face:1.5, blush:1.5, orgasm:2.0)), (((hose, wire))),((liquid on body:1.6)), ((ponytails)), ((white plugsuit)), (looking at viewer:1.5), ((close-up)), (multicolored hair:1.2, white hair, blue eyes,long hair, medium breast), ((skirt:1.5, hairclip:1.5, ribbons, cat ears))"
   ]
  },
  {
   "cell_type": "code",
   "execution_count": null,
   "metadata": {
    "vscode": {
     "languageId": "shellscript"
    }
   },
   "outputs": [],
   "source": [
    "((mecha on back:2.0)), ((simple background:2.0, blurry background:1.6, photo realistic:2.0)), ((close-up)),(((mecha wings))), (kneeling:2.0, lifting skirt:2.0), ((solo:2.0, endured face:1.5, blush:1.5)), ((orgasm:2.0)),  ((hose)), ((liquid on body:1.5)), (((white plugsuit))), ((ponytails)), (looking at viewer:1.5),  (multicolored hair:1.2, white hair, blue eyes,long hair, medium breast), ((hairclip:1.5, ribbons, cat ears)), (crotch seam:1.6), (mecha wings:1.5)"
   ]
  },
  {
   "cell_type": "code",
   "execution_count": null,
   "metadata": {
    "vscode": {
     "languageId": "shellscript"
    }
   },
   "outputs": [],
   "source": [
    "((mecha on back:2.0)), ((simple background:2.0, blurry background:1.6, photo realistic:2.0)), ((close-up)), (kneeling:2.0, skirt:1.6, wariza:1.6), ((solo:2.0, endured face:1.5, blush:1.5)), (((orgasm:2.0, crotch seam:2.0))), ((liquid on body:1.6)), (((white plugsuit))), ((ponytails)), (looking at viewer:1.5),  (multicolored hair:1.2, white hair, red eyes, heart-shaped pupil, long hair, medium breast), ((hairclip:1.5, ribbons, cat ears, hose))"
   ]
  },
  {
   "cell_type": "code",
   "execution_count": null,
   "metadata": {
    "vscode": {
     "languageId": "shellscript"
    }
   },
   "outputs": [],
   "source": [
    "((simple background:2.0, blurry background:1.6, photo realistic:1.6,solo:2.0)), (((mecha, white plugsuit))), ((((orgasm, crotch seam, liquid on body)))), ((full-body)), ((lying on bed, skirt)), (((endured face, blush))), ((ponytails)), (looking at viewer),  (multicolored hair:1.2, white hair, red eyes, heart-shaped pupil, long hair, medium breast), ((hairclip, ribbons, cat ears, hose))"
   ]
  },
  {
   "cell_type": "code",
   "execution_count": null,
   "metadata": {
    "vscode": {
     "languageId": "shellscript"
    }
   },
   "outputs": [],
   "source": [
    "((orgasm:2.0, after sex:2.0)), ((crotch seam:2.0)), ((simple background:2.0, blurry background:1.6, photo realistic:1.6,solo:2.0)), ((((mecha:1.6, white plugsuit)))), (liquid on body:2.0), ((sitting on bed, wariza, skirt)), (((endured face, blush))), ((ponytails)), (looking at viewer),  (multicolored hair:1.2, white hair, red eyes, heart-shaped pupil:1.5, long hair, medium breast), ((hairclip, ribbons, cat ears, hose))"
   ]
  },
  {
   "cell_type": "code",
   "execution_count": null,
   "metadata": {
    "vscode": {
     "languageId": "shellscript"
    }
   },
   "outputs": [],
   "source": [
    "((orgasm:2.0, after sex:2.0)), mecha on behind:2.0 ((((plugsuit)))), ((crotch seam:2.0, lifting skirt:1.5)), ((simple background:2.0, blurry background:1.6, photo realistic:1.6,solo:2.0)), (liquid on crotch:2.0), (((sitting, wariza))), (((serious face, blush))), ((ponytails)), (looking at viewer),  (multicolored hair:1.5, white hair, red eyes, heart-shaped pupil:1.8, long hair, medium breast), ((hairclip, ribbons, cat ears))"
   ]
  },
  {
   "cell_type": "code",
   "execution_count": null,
   "metadata": {
    "vscode": {
     "languageId": "shellscript"
    }
   },
   "outputs": [],
   "source": [
    "((((orgasm:2.0, after sex:2.0)))), (mecha-style wings:2.0) ((((plugsuit)))), ((crotch seam:2.5, lifting skirt:1.5)), ((simple background:2.0, photo realistic:1.6,solo:2.0)), (liquid on body:2.0), (((sitting, wariza))), (((serious face, blush))), ((ponytails)), (looking at viewer),  (multicolored hair:1.5, white hair, red eyes, heart-shaped pupil:1.8, long hair, medium breast), ((hairclip, ribbons, cat ears))"
   ]
  },
  {
   "cell_type": "code",
   "execution_count": null,
   "metadata": {
    "vscode": {
     "languageId": "shellscript"
    }
   },
   "outputs": [],
   "source": [
    "((((plugsuit)))), ((crotch seam:2.0)), ((orgasm:2.0)), (((taking off underwear:2.0))), ((simple background:2.0, blurry background:1.5, photo realistic:1.8, solo:2.0)), (liquid on body:1.5), (((standing))), (((naughty face:1.5, blush))), ((ponytails)), ((looking at viewer, close-up)),  (multicolored hair:1.5, white hair, red eyes, long hair, medium breast), ((hairclip, ribbons, cat ears, robot joints, navel))"
   ]
  },
  {
   "cell_type": "code",
   "execution_count": null,
   "metadata": {
    "vscode": {
     "languageId": "shellscript"
    }
   },
   "outputs": [],
   "source": [
    "((crotch seam:2.0)), ((orgasm:2.0)), ((((plugsuit)))), (((underwear only:2.0))), ((simple background:2.0, photo realistic:1.8, solo:2.0)), (liquid on body:2.0), (((standing))), (((naughty face:1.7, blush:1.7))), ((ponytails)), (((looking at viewer, close-up))),  ((multicolored hair:1.5, white hair:1.5, blue eyes, heart shaped pupil:1.5, long hair)), (large breast), ((hairclip)), ((ribbons, cat ears, cyborg))\n",
    "# stable"
   ]
  },
  {
   "cell_type": "code",
   "execution_count": null,
   "metadata": {
    "vscode": {
     "languageId": "shellscript"
    }
   },
   "outputs": [],
   "source": [
    "((crotch seam:2.0)), ((orgasm:2.0)), ((((plugsuit)))), (((underwear only:2.0))), ((simple background:2.0, blurry background:1.5, photo realistic:2.0, solo:2.0)), (liquid on body:2.0), (((standing))), (((naughty face:1.7, blush:1.7))), ((ponytails)), (((looking at viewer, close-up))),  ((multicolored hair:1.5, white hair:1.5, blue eyes, heart shaped pupil:1.5, long hair)), (large breast), ((hairclip)), ((ribbons, cat ears, cyborg)), (mecha on back,arms up)"
   ]
  },
  {
   "cell_type": "code",
   "execution_count": null,
   "metadata": {
    "vscode": {
     "languageId": "shellscript"
    }
   },
   "outputs": [],
   "source": [
    "((crotch seam:2.0)), ((orgasm:2.0)), ((((plugsuit)))), (((underwear only:2.0))), ((simple background:2.0, photo realistic:2.0, solo:2.0)), (liquid on body:2.0), (((standing))), (((no face:1.7, blush:1.7))), ((ponytails)), (((looking at viewer, close-up))),  ((multicolored hair:1.5, white hair:1.5, blue eyes, heart shaped pupil:1.5, long hair)), (medium breast), ((hairclip)), ((ribbons, cat ears, cyborg)), (mecha on back)"
   ]
  },
  {
   "cell_type": "code",
   "execution_count": null,
   "metadata": {
    "vscode": {
     "languageId": "shellscript"
    }
   },
   "outputs": [],
   "source": [
    "(((bare back:2.0))), (((underwear only:2.5))), ((crotch seam on back:2.2)), (cyborg:2.0), ((liquid on body:2.0)), ((simple background:2.0, photo realistic:2.0, solo:2.0)), (((standing))), ((orgasm:2.0)), (((naughty face:2.0, blush:2.0))), ((ponytails)), (((looking at viewer, close-up))),  ((multicolored hair:1.5, white hair:1.5)), ((red eyes, long hair)), (medium breast), ((hairclip)), ((ribbons, cat ears))"
   ]
  },
  {
   "cell_type": "code",
   "execution_count": null,
   "metadata": {
    "vscode": {
     "languageId": "shellscript"
    }
   },
   "outputs": [],
   "source": [
    "(((underwear only:2.5))), ((crotch seam:2.2)), (cyborg:2.0), (((liquid on body:2.0))), ((simple background:2.0, photo realistic:2.0, solo:2.0)), (((standing))), ((orgasm:2.0)), (((naughty face:2.0, blush:2.0))), ((ponytails)), (((looking at viewer))), (close-up), (((multicolored hair:1.6, white hair:1.6))), ((red eyes, long hair)), (medium breast), ((hairclip)), ((ribbons, cat ears))"
   ]
  },
  {
   "cell_type": "code",
   "execution_count": null,
   "metadata": {
    "vscode": {
     "languageId": "shellscript"
    }
   },
   "outputs": [],
   "source": [
    "(((underwear only:2.5))), ((crotch seam:2.2)), (cyborg:2.0), (energy core on breast:2.0), (((liquid on body:2.0))), ((simple background:2.0, photo realistic:2.0, solo:2.0)), (((sitting, wariza:1.6))), ((orgasm:2.0)), (((naughty face:2.0, blush:2.0))), ((ponytails)), (((looking at viewer))), (close-up), (((multicolored hair:1.6, white hair:1.6))), ((red eyes, long hair)), (medium breast), ((hairclip)), ((ribbons, cat ears))"
   ]
  },
  {
   "cell_type": "code",
   "execution_count": null,
   "metadata": {
    "vscode": {
     "languageId": "shellscript"
    }
   },
   "outputs": [],
   "source": [
    "(((underwear only:2.5))), ((crotch seam:2.5)), (((energy-core on breast:2.0))), (cyborg:2.0), (((liquid on body:1.8))), ((simple background:2.0, photo realistic:2.0, solo:2.0)), (((sitting))), ((orgasm:2.0)), (((naughty face:2.5, blush:2.0))), ((ponytails)), (((looking at viewer))), (close-up), (((multicolored hair:1.6, white hair:1.6))), ((gray eyes, long hair)), (medium breast), ((hairclip)), ((ribbons, cat ears))"
   ]
  },
  {
   "cell_type": "code",
   "execution_count": null,
   "metadata": {
    "vscode": {
     "languageId": "shellscript"
    }
   },
   "outputs": [],
   "source": [
    "((crotch seam:2.0)), (((energy-core))), (((cyborg))), (((liquid on body:2.0))), ((simple background:2.0, photo realistic:2.0, solo:2.0)), (((plugsuit))), (((sitting))), ((orgasm:2.0)), (((naughty face:2.0, blush:2.0))), ((ponytails)), (((looking at viewer))), (close-up), (((multicolored hair:1.6, white hair:1.6))), ((gray eyes, long hair)), (medium breast), ((hairclip)), ((ribbons, cat ears))"
   ]
  },
  {
   "cell_type": "code",
   "execution_count": null,
   "metadata": {
    "vscode": {
     "languageId": "shellscript"
    }
   },
   "outputs": [],
   "source": [
    "(((underwear only:2.0))), ((crotch seam:2.0)), ((cyborg:1.5)), (((liquid on body:1.2))), ((simple background:2.0)), ((photo realistic)), (solo:1.5), ((standing)), ((orgasm:1.6)), (((endured face))), ((ponytails, plugsuit)), ((looking at viewer)), ((hands on crotch)), (close-up), (((multicolored hair:1.6, white hair:1.6))), ((gray eyes, long hair)), (medium breast), ((hairclip)), ((ribbons, cat ears))"
   ]
  },
  {
   "cell_type": "code",
   "execution_count": null,
   "metadata": {
    "vscode": {
     "languageId": "shellscript"
    }
   },
   "outputs": [],
   "source": [
    "(((underwear only:2.5, nude))), ((bare back,facing away)), ((crotch seam:2.0)), (((liquid on body:1.2))), ((simple background:2.0)), ((photo realistic)), (solo:1.5), ((standing)), ((orgasm:1.6)), (((endured face))), ((ponytails, plugsuit)), ((looking at viewer)), ((hands on crotch)), (close-up), (((multicolored hair:1.6, white hair:1.6))), ((gray eyes, long hair)), (medium breast), ((hairclip)), ((ribbons, cat ears))"
   ]
  },
  {
   "cell_type": "code",
   "execution_count": null,
   "metadata": {
    "vscode": {
     "languageId": "shellscript"
    }
   },
   "outputs": [],
   "source": [
    "(((panties only:2.5))), ((crotch seam:2.5)), (cyborg:2.0), (((liquid on body:1.8))), ((simple background:2.0, photo realistic:1.5, solo:2.0)), (((lying on bed:1.8))), ((hands on crotch)), ((orgasm:2.0)), (((naughty face:2.5, blush:2.0))), ((ponytails, plugsuit)), (((looking at viewer))), (close-up), (((multicolored hair:1.6, white hair:1.6))), ((gray eyes, long hair)), (medium breast), ((hairclip)), ((ribbons, loli))"
   ]
  },
  {
   "cell_type": "code",
   "execution_count": null,
   "metadata": {
    "vscode": {
     "languageId": "shellscript"
    }
   },
   "outputs": [],
   "source": [
    "((underwear:2.5)), ((orange plugsuit:1.8)), ((energy-core:2.0)), ((liquid on body:1.8)), ((simple background:2.5)), ((photo realistic:1.6, solo:2.0)), (((crotch seam:2.0))), (((standing))), ((naughty face:2.0)) ,((orgasm:2.0)) ,((ponytails)), (((looking at viewer, blush, hands on belly))), (((multicolored hair:1.6, white hair:1.6))), ((gray eyes, long hair)), (medium breast), ((hairclip)), ((ribbons))"
   ]
  },
  {
   "cell_type": "code",
   "execution_count": null,
   "metadata": {
    "vscode": {
     "languageId": "shellscript"
    }
   },
   "outputs": [],
   "source": [
    "((crotch seam:1.5, pov crotch)), ((cyborg:1.5)), ((white plugsuit)), ((liquid on body)), (((naughty face, orgasm))), ((sitting on chair)), ((full body, close-up)) , ((simple background:2.0, photo realistic:1.6)), ((solo)), (((black thighhighs))), (((legs up))), ((ponytails)), (((looking at viewer))), (((multicolored hair, white hair))), ((gray eyes, long hair)), (medium breast), ((hairclip)), ((ribbons, heart-shaped pupil))"
   ]
  },
  {
   "cell_type": "code",
   "execution_count": null,
   "metadata": {
    "vscode": {
     "languageId": "shellscript"
    }
   },
   "outputs": [],
   "source": [
    "((crotch seam:2.0, pov crotch:1.6)), ((cyborg:1.5)), ((white plugsuit)), ((liquid on mouth:1.6)), (((naughty face:1.5, orgasm:1.6, blush:1.5))), ((vibrator:1.6)), ((sitting, wariza)), ((simple background:2.0, photo realistic:1.6)), ((solo:1.6, full body)), ((black thighhighs)), ((ponytails)), (((looking at viewer))), ((multicolored hair:1.2, white hair:1.2)), ((blue eyes, long hair)), (medium breast), ((heart-shaped pupil)), ((hairclip)), ((ribbons, cat ears))"
   ]
  },
  {
   "cell_type": "code",
   "execution_count": null,
   "metadata": {
    "vscode": {
     "languageId": "shellscript"
    }
   },
   "outputs": [],
   "source": [
    "((crotch seam:1.5, pov crotch)), ((cyborg:1.5)), ((white plugsuit)), ((liquid on body)), (((naughty face, orgasm))), ((sitting on chair)), ((full body, close-up)) , ((simple background:2.0, photo realistic:1.6)), ((solo)), (((black thighhighs))), ((ponytails)), (((looking at viewer))), (((multicolored hair, white hair))), ((gray eyes, long hair)), (medium breast), ((hairclip)), ((ribbons, heart-shaped pupil))"
   ]
  },
  {
   "cell_type": "code",
   "execution_count": null,
   "metadata": {
    "vscode": {
     "languageId": "shellscript"
    }
   },
   "outputs": [],
   "source": [
    "(((plugsuit))), ((hands on crotch seam:1.5)), ((endured face:1.8)) ,((orgasm:1.8)), ((crotch seam:1.5)), ((energy-core:1.5, cyborg)), ((liquid on body:1.5)), (((simple background:2.0))), ((photo realistic:1.6, solo:1.5)), ((sitting, wariza)), (((looking at viewer, blush))), (((multicolored hair:1.2, white hair))), ((blue eyes, short hair)), (medium breast), ((hairclip)), ((ribbons)), full body"
   ]
  },
  {
   "cell_type": "code",
   "execution_count": null,
   "metadata": {
    "vscode": {
     "languageId": "shellscript"
    }
   },
   "outputs": [],
   "source": [
    "(((plugsuit))), (endured face:1.8), ((blush)), ((crotch seam:1.8)), ((energy-core:1.5, cyborg)), (((simple background:2.0))), ((photo realistic:1.6, solo:1.5)), ((sitting)), (((looking at viewer))), (((multicolored hair:1.2, white hair))), ((blue eyes, short hair)), (medium breast), ((hairclip)), ((ribbons, full body))"
   ]
  },
  {
   "cell_type": "markdown",
   "metadata": {},
   "source": [
    "#### new"
   ]
  },
  {
   "cell_type": "code",
   "execution_count": null,
   "metadata": {
    "vscode": {
     "languageId": "shellscript"
    }
   },
   "outputs": [],
   "source": [
    "(((simple background:1.8))), ((photo realistic:1.5, solo)), ((crotch seam:1.5)), ((plugsuit:1.5)), ((cyborg)), (naughty face, after sex), ((blush)), (sitting, wariza), (((orgasm))), (((liquid on body, injury))), ((looking at viewer)), (multicolored hair:1.2, white hair), ((blue eyes, short hair)), (medium breast), ((hairclip)), ((ribbons, upper body))"
   ]
  },
  {
   "cell_type": "code",
   "execution_count": null,
   "metadata": {
    "vscode": {
     "languageId": "shellscript"
    }
   },
   "outputs": [],
   "source": [
    "(((simple background:1.8))), ((photo realistic:1.5, solo)), (underwear only:1.6), ((crotch seam:1.5)), ((bodysuit:1.5, cyborg)), (naughty face, orgasm), ((blush)), (standing), (((orgasm))), (((liquid on body))), ((looking at viewer)), (multicolored hair:1.2, white hair), ((blue eyes, short hair)), (medium breast), ((hairclip)), ((ribbons, upper body))"
   ]
  },
  {
   "attachments": {},
   "cell_type": "markdown",
   "metadata": {},
   "source": [
    "## 无涩涩 "
   ]
  },
  {
   "cell_type": "code",
   "execution_count": null,
   "metadata": {
    "vscode": {
     "languageId": "shellscript"
    }
   },
   "outputs": [],
   "source": [
    "((A big mecha on back:1.6)), (((black plugsuit))), ((crotch seam:2.0, taking off underwear:2.0)), ((simple background:2.0, blurry background:1.6, photo realistic:1.6, solo:2.0)), (liquid on body:1.5), (((standing, wariza))), (((endured face, blush))), ((ponytails)), ((looking at viewer)),  (multicolored hair:1.5, white hair, red eyes, long hair, medium breast), ((hairclip, ribbons, cat ears))"
   ]
  },
  {
   "cell_type": "code",
   "execution_count": null,
   "metadata": {
    "vscode": {
     "languageId": "shellscript"
    }
   },
   "outputs": [],
   "source": [
    "((light wings:2.0, mecha)), ((((plugsuit)))), (((taking off underwear:2.0))), ((simple background:2.0, blurry background:1.6, photo realistic:1.6, solo:2.0)), (liquid on body:1.5), (((standing, wariza))), (((naughty face:1.5, blush))), ((ponytails)), ((looking at viewer, close-up)),  (multicolored hair:1.5, white hair, red eyes, long hair, medium breast), ((hairclip, ribbons, cat ears, robot joints))"
   ]
  },
  {
   "cell_type": "code",
   "execution_count": null,
   "metadata": {
    "vscode": {
     "languageId": "shellscript"
    }
   },
   "outputs": [],
   "source": [
    "((((plugsuit)))), (((taking off underwear:2.0))), ((simple background:2.0, blurry background:1.5, photo realistic:1.8, solo:2.0)), (liquid on body:1.5), (((standing))), (((naughty face:1.5, blush))), ((ponytails)), ((looking at viewer, close-up)),  (multicolored hair:1.5, white hair, red eyes, long hair, medium breast), ((hairclip, ribbons, cat ears, robot joints, navel))"
   ]
  },
  {
   "cell_type": "code",
   "execution_count": null,
   "metadata": {
    "vscode": {
     "languageId": "shellscript"
    }
   },
   "outputs": [],
   "source": [
    "(((underwear only:2.0))), ((bare back:2.0)), ((cyborg:1.8)), ((((white plugsuit)))), ((simple background:2.0, photo realistic:2.0, solo:2.0)), (liquid on body:1.5), (((standing))), (((endured face:1.7, blush:1.7))), ((ponytails)), (((looking at viewer, close-up))),  ((multicolored hair:1.5, white hair:1.5)), ((blue eyes, long hair)), (medium breast), ((hairclip)), ((ribbons, robot ears, cat ears))"
   ]
  },
  {
   "cell_type": "code",
   "execution_count": null,
   "metadata": {
    "vscode": {
     "languageId": "shellscript"
    }
   },
   "outputs": [],
   "source": [
    "white, (((underwear only:2.0))), ((bare back:2.0)), ((cyborg:1.8)), ((((halter top)))), ((simple background:2.0, photo realistic:2.0, solo:2.0)), (liquid on body:1.5), (((standing))), (((no face:1.7, endured face:1.7, blush:1.7))), ((ponytails)), (((looking at viewer, close-up))),  ((multicolored hair:1.5, white hair:1.5)), ((blue eyes, long hair)), (medium breast), ((hairclip)), ((ribbons, cat ears))"
   ]
  },
  {
   "cell_type": "code",
   "execution_count": null,
   "metadata": {
    "vscode": {
     "languageId": "shellscript"
    }
   },
   "outputs": [],
   "source": [
    "(((hose on back, bare back))), ((energy-core:2.0)), (((cyborg))), (((liquid on body:2.0))), ((simple background:2.0, photo realistic:1.6, solo:2.0)), (((plugsuit))), (((sitting))), (naughty face:1.8, blush:1.8), ((ponytails)), (((looking at viewer))), (close-up), (((multicolored hair:1.6, white hair:1.6))), ((gray eyes, long hair)), (medium breast), ((hairclip)), ((ribbons, cat ears))"
   ]
  },
  {
   "cell_type": "code",
   "execution_count": null,
   "metadata": {
    "vscode": {
     "languageId": "shellscript"
    }
   },
   "outputs": [],
   "source": [
    "((underwear only:2.0)), ((cyborg:2.0)), ((plugsuit:1.5)), ((liquid on body:1.8)), ((simple background:2.5, photo realistic:2.0, solo:2.0)), (((standing))), ((barefoot)), (((endured face:2.0, energy-core:2.0))), ((ponytails)), (((looking at viewer))), ((full body)), (((multicolored hair:1.6, white hair:1.6))), ((gray eyes, long hair)), (medium breast), ((hairclip)), ((ribbons))"
   ]
  },
  {
   "cell_type": "code",
   "execution_count": null,
   "metadata": {
    "vscode": {
     "languageId": "shellscript"
    }
   },
   "outputs": [],
   "source": [
    "((underwear:2.5)), ((cyborg:1.6)), ((white plugsuit:1.8)), ((liquid on body:1.8)), ((simple background:2.5)), ((photo realistic:1.6, solo:2.0)), (((crotch seam:2.0))), (((standing))), (((naughty face:2.0)), ((energy-core:2.0))), ((ponytails)), (((looking at viewer, blush, hands on belly))), (((multicolored hair:1.6, white hair:1.6))), ((gray eyes, long hair)), (medium breast), ((hairclip)), ((ribbons))"
   ]
  },
  {
   "cell_type": "code",
   "execution_count": null,
   "metadata": {
    "vscode": {
     "languageId": "shellscript"
    }
   },
   "outputs": [],
   "source": [
    "(((plugsuit))), ((hands on crotch seam:1.5)), ((endured face:1.8)), ((crotch seam:1.5)), ((energy-core:1.5, cyborg)), (((simple background:2.0))), ((photo realistic:1.6, solo:1.5)), ((sitting, wariza)), (((looking at viewer, blush))), (((multicolored hair:1.2, white hair))), ((blue eyes, short hair)), (medium breast), ((hairclip)), ((ribbons)), full body"
   ]
  },
  {
   "cell_type": "code",
   "execution_count": null,
   "metadata": {
    "vscode": {
     "languageId": "shellscript"
    }
   },
   "outputs": [],
   "source": [
    "(((training suit))), ((hose on back:1.6, facing back:1.5)), (endured face:1.8), ((blush)), ((crotch seam:1.8)), ((energy-core:1.5)), ((cyborg)), (((simple background:2.0)), ((photo realistic:2.0, solo:1.5)), ((standing)), (((looking at viewer))), (((multicolored hair:1.2, white hair))), ((blue eyes, short hair)), (medium breast), ((hairclip)), ((ribbons, upper body))"
   ]
  },
  {
   "cell_type": "code",
   "execution_count": null,
   "metadata": {
    "vscode": {
     "languageId": "shellscript"
    }
   },
   "outputs": [],
   "source": [
    "(((bodysuit))), ((facing back)), (endured face:1.5), ((blush)), ((crotch seam:1.5)), ((energy-core:1.5)), ((cyborg)), ((simple background:2.0)), ((photo realistic:1.6, solo:1.5)), ((standing)), (((looking at viewer))), (((multicolored hair:1.2, white hair))), ((red eyes, short hair)), (medium breast), ((hairclip)), ((ribbons, upper body))"
   ]
  },
  {
   "cell_type": "code",
   "execution_count": null,
   "metadata": {
    "vscode": {
     "languageId": "shellscript"
    }
   },
   "outputs": [],
   "source": [
    "(((bodysuit, mecha on back))), ((facing back:1.5)), (faceless:1.2), ((blush)), ((crotch seam)), ((energy-core)), ((cyborg)), ((simple background:2.0, photo realistic:1.6, solo:1.5)), ((standing)), (((looking at viewer))), (((multicolored hair:1.2, white hair))), ((red eyes, short hair)), ((heart-shaped pupil)), (medium breast), ((hairclip)), ((ribbons, upper body))"
   ]
  },
  {
   "cell_type": "code",
   "execution_count": null,
   "metadata": {
    "vscode": {
     "languageId": "shellscript"
    }
   },
   "outputs": [],
   "source": [
    "((simple background:2.0)), ((photo realistic:1.8, solo:1.5)), ((cyborg:1.6)), ((plugsuit, injury:1.5)), (endured face:1.4, tears), ((blush)), ((crotch seam:1.8)), ((energy-core)), ((standing)), (((looking at viewer))), (((multicolored hair:1.2, white hair))), ((red eyes, short hair)), ((heart-shaped pupil)), (medium breast), ((hairclip)), ((ribbons, upper body))"
   ]
  },
  {
   "cell_type": "markdown",
   "metadata": {},
   "source": [
    "### 战损"
   ]
  },
  {
   "cell_type": "code",
   "execution_count": null,
   "metadata": {
    "vscode": {
     "languageId": "shellscript"
    }
   },
   "outputs": [],
   "source": [
    "((cyborg)), ((plugsuit)), ((simple background, solo:1.6)), (crotch seam:2.0), (open mouth, steam:1.5), (liquid on body), ((standing)), ((full body)), (((endured face:1.7, blush:1.7, tears))), ((ponytails)), (((looking at viewer, close-up))),  ((multicolored hair:1.5, white hair:1.5)), ((blue eyes, long hair)), (medium breast), ((hairclip)), ((ribbons, upper body))"
   ]
  },
  {
   "attachments": {},
   "cell_type": "markdown",
   "metadata": {},
   "source": [
    "### 换一个姿势"
   ]
  },
  {
   "cell_type": "code",
   "execution_count": null,
   "metadata": {
    "vscode": {
     "languageId": "shellscript"
    }
   },
   "outputs": [],
   "source": [
    "((pov crotch:2.0, crotch seam:2.0)), (plugsuit:1.6), (cyborg:1.8), (((pants:2.0))), ((simple background:2.0, photo realistic:1.8, solo:2.0)), (liquid on body:1.5), (((endured face:2.0, blush:1.6))), (((close-up, looking at viewer))), ((ponytails)), (multicolored hair:1.5, white hair), (red eyes, long hair, large breast), ((hairclip, ribbons, cat ears, navel, bottomless:2.0))"
   ]
  },
  {
   "cell_type": "code",
   "execution_count": null,
   "metadata": {
    "vscode": {
     "languageId": "shellscript"
    }
   },
   "outputs": [],
   "source": [
    "(((crotch seam:2.0))), (orgasm:2.0), (plugsuit:1.6), (cyborg:2.0), ((simple background:2.0, photo realistic:1.8, solo:2.0)), (liquid on crotch:1.8), (((endured face:2.0, blush:1.6))), (((close-up, looking at viewer))), ((ponytails)), ((multicolored hair:1.5, white hair:1.5, red eyes, long hair, large breast)), ((hairclip, thigh strap, ribbons, cat ears, navel))"
   ]
  },
  {
   "attachments": {},
   "cell_type": "markdown",
   "metadata": {},
   "source": [
    "### 111"
   ]
  },
  {
   "cell_type": "code",
   "execution_count": null,
   "metadata": {
    "vscode": {
     "languageId": "shellscript"
    }
   },
   "outputs": [],
   "source": [
    "(((crotch seam:2.0))), (orgasm:2.0), ((energy-core:2.0)), ((cyborg:1.6)), (((liquid on body:1.6))), ((simple background:2.0, photo realistic:1.5, solo:2.0)), (((plugsuit))), (((standing))), ((hands on belly)), (naughty face:1.8, blush:1.8), ((ponytails)), (((looking at viewer))), (close-up), (((multicolored hair:1.6, white hair:1.6))), ((gray eyes, long hair)), (medium breast), ((hairclip)), ((ribbons, cat ears))"
   ]
  },
  {
   "cell_type": "code",
   "execution_count": null,
   "metadata": {
    "vscode": {
     "languageId": "shellscript"
    }
   },
   "outputs": [],
   "source": [
    "((photo realistic:1.5, solo)), ((plugsuit:1.5, bodysuit:1.5)), ((cyborg)), (endured face), ((blush)), (lying), (liquid on body), ((looking at viewer)), (multicolored hair:1.2, white hair), ((blue eyes, short hair)), (medium breast), ((hairclip)), ((ribbons, upper body))"
   ]
  },
  {
   "cell_type": "code",
   "execution_count": null,
   "metadata": {
    "vscode": {
     "languageId": "shellscript"
    }
   },
   "outputs": [],
   "source": [
    "((photo realistic:1.5, solo)), ((plugsuit:1.5, bodysuit:1.5, underwear only:1.5)), ((cyborg)), ((endured face)), ((blush)), (lying on floor), ((looking at viewer)), (multicolored hair:1.2, white hair), ((blue eyes, short hair)), (medium breast), ((hairclip)), ((ribbons, crotch seam))"
   ]
  },
  {
   "cell_type": "code",
   "execution_count": null,
   "metadata": {
    "vscode": {
     "languageId": "shellscript"
    }
   },
   "outputs": [],
   "source": [
    "((simple background:2.0, photo realistic:1.5, solo:2.0)), ((white plugsuit:1.5, bodysuit:1.5)), ((underwear only:1.5)), ((cyborg)), ((endured face)), ((blush)), (lying on bed), ((looking at viewer)), (multicolored hair:1.2, white hair), ((blue eyes, short hair)), (medium breast), ((hairclip)), ((ribbons, crotch zipper))"
   ]
  },
  {
   "cell_type": "code",
   "execution_count": null,
   "metadata": {
    "vscode": {
     "languageId": "shellscript"
    }
   },
   "outputs": [],
   "source": [
    "((crotch:1.5)), ((simple background:2.0, photo realistic:1.5, solo:2.0)), ((white plugsuit:1.5)), ((underwear only:1.8)), ((cyborg)), ((endured face)), ((blush)), (lying), ((looking at viewer)), (multicolored hair:1.2, white hair), ((blue eyes, short hair)), ((large breast)), ((hairclip)), ((ribbons))"
   ]
  },
  {
   "cell_type": "code",
   "execution_count": null,
   "metadata": {
    "vscode": {
     "languageId": "shellscript"
    }
   },
   "outputs": [],
   "source": [
    "((simple background:2.0)), (crotch seam:1.5), ((white plugsuit:1.5)), ((underwear only:1.8)), ((cyborg)), ((endured face)), ((blush)), (sitting), ((looking at viewer)), (multicolored hair:1.2, white hair), ((blue eyes, short hair)), ((large breast)), ((hairclip)), ((ribbons)), ((full body, close-up)), barefoot"
   ]
  },
  {
   "cell_type": "code",
   "execution_count": null,
   "metadata": {
    "vscode": {
     "languageId": "shellscript"
    }
   },
   "outputs": [],
   "source": [
    "((simple background:2.0)), ((2girls)), (crotch seam:1.5), ((plugsuit:1.5)), ((underwear only:1.8)), ((cyborg)), ((endured face)), ((blush)), (sitting, wariza), ((huging)), (multicolored hair:1.2, white hair), ((blue eyes, short hair)), ((large breast)), ((hairclip)), ((ribbons)), ((full body, close-up)), barefoot"
   ]
  },
  {
   "attachments": {},
   "cell_type": "markdown",
   "metadata": {},
   "source": [
    "## 娃娃"
   ]
  },
  {
   "cell_type": "code",
   "execution_count": null,
   "metadata": {
    "vscode": {
     "languageId": "shellscript"
    }
   },
   "outputs": [],
   "source": [
    "((mecha:2.0)), (mecha-style wings:2.0) ((((plugsuit)))), ((crotch seam:2.5, lifting skirt:1.5)), ((simple background:2.0, photo realistic:2.0, blurry background:1.6, solo:2.0)), (liquid on body:2.0), (((sitting, wariza))), (((serious face, blush))), ((ponytails)), (looking at viewer),  (multicolored hair:1.5, white hair, red eyes, heart-shaped pupil:1.8, long hair, medium breast), ((hairclip, ribbons, cat ears)) ,<lora:dd:0.4>"
   ]
  },
  {
   "attachments": {},
   "cell_type": "markdown",
   "metadata": {},
   "source": [
    "## 车车"
   ]
  },
  {
   "cell_type": "code",
   "execution_count": null,
   "metadata": {
    "vscode": {
     "languageId": "shellscript"
    }
   },
   "outputs": [],
   "source": [
    "car,cyberpunk <lora:Vehicle:1>"
   ]
  },
  {
   "cell_type": "markdown",
   "metadata": {},
   "source": [
    "### SDXL"
   ]
  },
  {
   "cell_type": "code",
   "execution_count": null,
   "metadata": {
    "vscode": {
     "languageId": "shellscript"
    }
   },
   "outputs": [],
   "source": [
    "(photo realistic:2.0, watermark:1.6), (vivid color:2.0, yellow, detailed light:1.8, masterpiece:1.5), (((simple background:2.0, blurry background:1.8))), (((night, dark))), (cyborg:1.6, back:1.8, solo:1.6), (armor skirt:1.7, loli:1.5), ((glove, barefoot, legs spread:1.4, facing away:1.5, looking at viewer:1.4)), (multicolored hair:1.2, purple hair:1.2, pink hair, short hair, blue eyes), ((orange bodysuit:2.0, white pantyhose:2.0, long sleeves:2.0, bandage, medium breast, sitting, wariza, indoors)), ((mechanical ears:2.0, hairclip)),"
   ]
  },
  {
   "cell_type": "markdown",
   "metadata": {},
   "source": []
  }
 ],
 "metadata": {
  "language_info": {
   "name": "python"
  },
  "orig_nbformat": 4
 },
 "nbformat": 4,
 "nbformat_minor": 2
}
