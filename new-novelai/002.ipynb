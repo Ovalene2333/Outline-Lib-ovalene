{
 "cells": [
  {
   "cell_type": "markdown",
   "metadata": {},
   "source": [
    "### set1\n",
    "bad:\n",
    "{\n",
    "  easynegative, gears, cowbody, nsfw, lowres, bad anatomy, bad hands, text, error, missing fingers, extra digit, fewer digits, cropped, worst quality, low quality, normal quality, jpeg artifacts, signature, watermark, username, blurry, ((animal ears)), 3 legs, 3 hands, 3 arms, cowboy\n",
    "}"
   ]
  },
  {
   "cell_type": "markdown",
   "metadata": {},
   "source": [
    "((mecha:2.0)), ((simple background:2.0, blurry background:1.5, photo realistic:1.8)), (standing:2.0, holding crotch:1.5), ((cyborg:1.6, solo:1.6, endured face:1.5, blush:1.5)), ((ponytails)), ((white bodysuit, black pantyhose)), ((looking at viewer:1.4)), (multicolored hair:1.2, pink hair, blue eyes, medium breast), ((hairclip))"
   ]
  },
  {
   "cell_type": "markdown",
   "metadata": {},
   "source": [
    "((mecha:2.0)), ((simple background:2.0, blurry background:1.5, photo realistic:1.8)), (sitting, wariza, holding crotch:1.5), ((cyborg:1.6, solo:1.6, endured face:1.5, blush:1.5)), ((ponytails)), ((white bodysuit, black pantyhose)), ((looking at viewer:1.4)), (multicolored hair:1.2, pink hair, blue eyes, medium breast), ((hairclip))"
   ]
  },
  {
   "cell_type": "markdown",
   "metadata": {},
   "source": [
    "((cyborg:2.0)), ((no background:2.0, blurry background:1.5, photo realistic:1.8)), (3d:1.2, hires:1.2), ((sitting, wariza:1.5)), (crotch seam:2.0), ((solo:1.6, endured face:1.5, blush:1.5)), ((ponytails)), ((black bodysuit)), ((white pantyhose)), ((looking at viewer:1.4)), (multicolored hair:1.2, pink hair, blue eyes, medium breast), ((hairclip))"
   ]
  },
  {
   "cell_type": "markdown",
   "metadata": {},
   "source": [
    "(masterpiece, high quality), ((no background:2.0, blurry background:1.5, realistic:1.8)), (3d:2.0), ((cyborg:1.8, 1girl:1.5)), ((sitting, wariza:1.5)), (crotch seam:2.0, after sex:1.5), ((solo:1.6, endured face:1.5, blush:1.5)), ((ponytails)), ((black bodysuit)), ((white pantyhose)), ((looking at viewer:1.4)), (multicolored hair:1.2, pink hair, blue eyes, medium breast), ((hairclip)), ((energy core))"
   ]
  },
  {
   "cell_type": "markdown",
   "metadata": {},
   "source": [
    "(masterpiece, high quality), ((no background:2.0, blurry background:1.5, realistic:1.8)), (3d:2.0), ((cyborg:1.8, 1girl:1.5)), ((sitting, wariza:1.5)), (crotch seam:2.0, after sex:1.5), ((solo:1.6, endured face:1.5, blush:1.5)), ((ponytails)), ((black bodysuit)), ((white pantyhose)), ((looking at viewer:1.4)), (multicolored hair:1.2, pink hair, blue eyes, medium breast), ((hairclip)), ((energy core)), (glasses)"
   ]
  },
  {
   "cell_type": "markdown",
   "metadata": {},
   "source": [
    "(masterpiece, high quality), ((no background:2.0, simple background:2.0)), ((blurry background:1.5, realistic:1.8)), (3d:2.0), ((cyborg:1.8, 1girl:1.5)), ((sitting, wariza:1.6)), (crotch seam:2.0, after sex:1.5), ((solo:1.6, blush:1.5)), ((ponytails)), ((black bodysuit)), ((white pantyhose)), ((looking at viewer:1.4)), (multicolored hair:1.2, pink hair, blue eyes, medium breast), ((hairclip)), ((energy core)), glasses"
   ]
  },
  {
   "cell_type": "markdown",
   "metadata": {},
   "source": [
    "(masterpiece, high quality), ((no background:2.0, simple background:2.0)), ((blurry background:1.5, realistic:1.8)), (3d:2.0), ((cyborg:1.8, 1girl:1.5)), ((sitting, wariza:1.6)), (crotch seam:2.0, after sex:2.0), ((solo:1.6, blush:1.5)), ((ponytails)), ((black bodysuit)), ((white pantyhose)), ((looking at viewer:1.4)), (multicolored hair:1.2, white hair, blue eyes, medium breast), ((hairclip)), ((energy core))"
   ]
  },
  {
   "cell_type": "markdown",
   "metadata": {},
   "source": [
    "(masterpiece, high quality), ((no background:2.0, simple background:2.0)), ((blurry background:1.5, realistic:1.8)), (3d:2.0), ((cyborg:1.8, 1girl:1.5)), ((sitting, wariza:1.6)), ((solo:1.6, blush:1.5)), ((ponytails)), ((black bodysuit)), ((white pantyhose)), ((looking at viewer:1.4)), (multicolored hair:1.2, white hair, blue eyes, medium breast), ((hairclip)), ((energy core, metal skin)), (after sex:1.5, endured face)"
   ]
  },
  {
   "cell_type": "markdown",
   "metadata": {},
   "source": [
    "(masterpiece, high quality), ((no background:2.0, simple background:2.0)), ((blurry background:1.5, realistic:1.8)), (3d:2.0), ((cyborg:1.8, 1girl:1.5)), ((sitting, wariza:1.6)), ((solo:1.6, blush:1.5)), ((ponytails)), ((black bodysuit)), ((white pantyhose)), ((looking at viewer:1.4)), (multicolored hair:1.2, white hair, blue eyes, medium breast), ((hairclip)), ((energy core:1.2)), (after sex:1.5, endured face:1.2, orgasm:1.2), (liquid on body),"
   ]
  },
  {
   "cell_type": "markdown",
   "metadata": {},
   "source": [
    "(masterpiece, high quality), ((no background:2.0, simple background:2.0)), ((blurry background:1.5, realistic:1.8)), (3d:2.0), ((cyborg:1.8, 1girl:1.5)), ((sitting, wariza:1.6)), ((solo:1.6, blush:1.5)), ((ponytails)), ((white pantyhose)), ((looking at viewer:1.4)), (multicolored hair:1.2, white hair, blue eyes, medium breast), ((hairclip)), ((energy core:1.2)), (after sex:1.5, endured face:1.2, orgasm:1.2), (liquid on body),"
   ]
  },
  {
   "cell_type": "markdown",
   "metadata": {},
   "source": [
    "((blurry background)), (masterpiece, high quality, absurdres, close-up), (3d:2.0, realistic:1.8), ((solo, 1girl)), ((kneeling:1.5)), ((blush:1.5)), ((ponytails)), ((looking at viewer:1.4)), (multicolored hair:1.2, white hair, blue eyes, medium breasts), (long hair:1.5), ((black pantyhose)), ((high-tech swimsuit)), (endured face:1.2), ((pussy:1.2)), ((endure face:1.5)), (robot girl)"
   ]
  },
  {
   "cell_type": "markdown",
   "metadata": {},
   "source": [
    "((blurry background)), (masterpiece, high quality, absurdres, close-up), (3d:2.0, realistic:1.8), ((solo, 1girl)), ((lying on bed:1.5)), ((blush:1.5)), ((ponytails)), ((looking at viewer:1.4)), (multicolored hair:1.2, white hair, blue eyes, medium breasts), (long hair:1.5), ((black pantyhose)), ((high-tech swimsuit)), (endured face:1.2), ((pussy:1.2)), ((endure face:1.5)), (robot girl)"
   ]
  },
  {
   "cell_type": "markdown",
   "metadata": {},
   "source": [
    "((blurry background, indoors)), (masterpiece, high quality, absurdres, close-up), (hairclip, band), ((solo, 1girl)), ((blush:1.5)), ((ponytails)), ((looking at viewer:1.4)), (multicolored hair:1.2, white hair:1.2, blue eyes), (large breasts), (long hair:1.5), ((white pantyhose)), ((high-tech plugsuit)), ((pussy:1.5)), ((endure face:1.5, orgasm)), (one knee), (cyborg)"
   ]
  },
  {
   "cell_type": "markdown",
   "metadata": {},
   "source": [
    "((blurry background)), ((masterpiece, high quality, absurdres)), (close-up), (hairclip, wariza), ((solo, 1girl)), ((blush:1.5)), ((ponytails)), ((looking at viewer:1.5)), ((no shoes:1.2)), (white hair:1.5), ((grey eyes, symbol-shaped pupils, one eye closed)), (large breasts), (long hair:1.5), ((black pantyhose)), ((white plugsuit)), ((laboratory:1.5)), ((pussy object insertion:1.5)), ((hose on crotch:1.5, steam)), ((endure face:1.5, open mouth)), (kneeling), (cyborg:1.3), (novel illustration:1.2)"
   ]
  },
  {
   "cell_type": "markdown",
   "metadata": {},
   "source": [
    "((blurry background)), ((masterpiece, high quality, absurdres)), (close-up), (hairclip, wariza), ((solo, 1girl)), ((blush:1.5)), ((ponytails)), ((looking at viewer:1.5)), ((no shoes:1.2)), (white hair:1.5), ((grey eyes, symbol-shaped pupils)), (large breasts), (long hair:1.5), ((black pantyhose)), ((white plugsuit)), ((laboratory:1.5)), ((hose on pussy:1.5, steam)), ((endure face:1.5)), (kneeling), (cyborg:1.3), (novel illustration:1.2)"
   ]
  },
  {
   "cell_type": "markdown",
   "metadata": {},
   "source": [
    "((blurry background)), ((masterpiece, high quality, absurdres)), (close-up), (hairclip, wariza), ((solo, 1girl)), ((blush:1.5)), ((ponytails)), ((looking at viewer:1.5)), ((no shoes:1.2)), (white hair:1.5), ((grey eyes, symbol-shaped pupils)), (large breasts), (long hair:1.5), ((black pantyhose:1.2)), ((white plugsuit)), ((laboratory:1.5)), ((pussy:1.6, steam)), ((happy face)), (kneeling), (cyborg:1.3), (novel illustration:1.2), (hose on back)"
   ]
  },
  {
   "cell_type": "markdown",
   "metadata": {},
   "source": [
    "((blurry background)), ((masterpiece, high quality, absurdres)), (close-up), (hairclip, wariza), ((solo, 1girl)), ((blush:1.5)), ((ponytails)), ((looking at viewer:1.5)), ((no shoes:1.2)), (white hair:1.5), ((grey eyes, symbol-shaped pupils)), (large breasts), (long hair:1.5), ((black pantyhose:1.2)), ((white plugsuit)), ((laboratory:1.5)), ((steam)), ((happy face)), (kneeling), (cyborg:1.3), (novel illustration:1.2), ((facing away)), ((hose on back:1.2))"
   ]
  },
  {
   "cell_type": "markdown",
   "metadata": {},
   "source": [
    "((blurry background)), ((masterpiece, high quality, absurdres)), (close-up), (hairclip), ((solo, 1girl)), ((blush:1.5)), ((ponytails)), ((looking at viewer:1.5)), ((no shoes:1.2)), (white hair:1.5), ((grey eyes, symbol-shaped pupils)), (large breasts), (long hair:1.5), ((black pantyhose:1.2)), ((white plugsuit)), ((laboratory:1.5)), ((steam)), ((endured face)), (kneeling), (cyborg:1.3), (novel illustration:1.2), ((facing away:1.2))"
   ]
  },
  {
   "cell_type": "markdown",
   "metadata": {},
   "source": [
    "## 躺"
   ]
  },
  {
   "cell_type": "markdown",
   "metadata": {},
   "source": [
    "((blurry background)), ((masterpiece, high quality, absurdres)), (close-up), (hairclip), ((solo, 1girl)), ((blush:1.5)), ((ponytails)), ((no shoes:1.2)), (white hair:1.5), ((grey eyes, symbol-shaped pupils)), (large breasts), ((looking at viewer:1.5)), (long hair:1.5), ((black pantyhose:1.2)), ((white plugsuit)), (bareback), ((on bed)), ((steam)), ((endured face)), (lying), (cyborg:1.3), (novel illustration:1.2), ((facing away:1.2))"
   ]
  },
  {
   "cell_type": "markdown",
   "metadata": {},
   "source": [
    "((blurry background)), (photo realistic:2.0, watermark:1.6, 3d:1.6), ((masterpiece, high quality, absurdres)), (hairclip), ((solo, 1girl)), ((blush:1.5)), ((ponytails)), ((no shoes:1.2)), (white hair:1.5), ((grey eyes, symbol-shaped pupils)), (large breasts), ((looking at viewer:1.5)), (long hair:1.5), ((black pantyhose:1.2)), ((white plugsuit)), ((steam)), ((endured face)), ((lying on bed)), (cyborg:1.3, pussy seam:1.2), (high view:1.5)"
   ]
  }
 ],
 "metadata": {
  "language_info": {
   "name": "python"
  },
  "orig_nbformat": 4
 },
 "nbformat": 4,
 "nbformat_minor": 2
}
