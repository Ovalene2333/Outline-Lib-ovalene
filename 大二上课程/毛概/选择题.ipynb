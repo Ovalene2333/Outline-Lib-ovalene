{
 "cells": [
  {
   "cell_type": "markdown",
   "metadata": {},
   "source": [
    "## 选择题\n",
    "\n",
    "‎新中国初期建立社会主义国营经济的主要途径是 没收官僚资本\n",
    "![Alt text](image.png)\n",
    "\n",
    "![Alt text](image-1.png)\n",
    "\n",
    "![Alt text](image-2.png)\n",
    "\n",
    "![Alt text](image-3.png)\n",
    "\n",
    "![Alt text](image-4.png)\n",
    "\n"
   ]
  },
  {
   "cell_type": "markdown",
   "metadata": {},
   "source": [
    "## 多选题\n",
    "\n",
    "![Alt text](image-5.png)\n",
    "\n",
    "![Alt text](image-6.png)\n",
    "\n",
    "![Alt text](image-7.png)\n",
    "\n",
    "![Alt text](image-8.png)\n",
    "\n",
    "![Alt text](image-9.png)\n",
    "\n",
    "![Alt text](image-10.png)\n",
    "\n",
    "![Alt text](image-11.png)\n",
    "\n",
    "![Alt text](image-12.png)\n",
    "\n",
    "![Alt text](image-13.png)"
   ]
  }
 ],
 "metadata": {
  "language_info": {
   "name": "python"
  },
  "orig_nbformat": 4
 },
 "nbformat": 4,
 "nbformat_minor": 2
}
