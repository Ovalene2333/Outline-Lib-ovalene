{
 "cells": [
  {
   "cell_type": "code",
   "execution_count": 2,
   "metadata": {},
   "outputs": [
    {
     "name": "stdout",
     "output_type": "stream",
     "text": [
      "等级: A\n",
      "评语: 学生的成绩在全校的前10%\n"
     ]
    }
   ],
   "source": [
    "score = float(input(\"请输入学生的成绩：\"))\n",
    "\n",
    "if score >= 90:\n",
    "    grade = 'A'\n",
    "    comment = '学生的成绩在全校的前10%'\n",
    "elif score >= 82:\n",
    "    grade = 'B'\n",
    "    comment = '学生的成绩排在全校的前10%～20%'\n",
    "elif score >= 75:\n",
    "    grade = 'C'\n",
    "    comment = '学生的成绩在全校的前20%～50%'\n",
    "elif score >= 50:\n",
    "    grade = 'D'\n",
    "    comment = '学生的成绩在全校的前50%～80%'\n",
    "else:\n",
    "    grade = 'E'\n",
    "    comment = '学生的成绩在全校的后20%'\n",
    "\n",
    "print(\"等级:\", grade)\n",
    "print(\"评语:\", comment)\n"
   ]
  },
  {
   "cell_type": "code",
   "execution_count": 3,
   "metadata": {},
   "outputs": [
    {
     "name": "stdout",
     "output_type": "stream",
     "text": [
      "玩家选择： 剪刀\n",
      "电脑选择： 布\n",
      "结果： 电脑获胜\n"
     ]
    }
   ],
   "source": [
    "import random\n",
    "\n",
    "choices = {\n",
    "    1: \"布\",\n",
    "    2: \"剪刀\",\n",
    "    3: \"石头\"\n",
    "}\n",
    "\n",
    "player_choice = int(input(\"请玩家输入选择（1表示布，2表示剪刀，3表示石头）：\"))\n",
    "computer_choice = random.randint(1, 3)\n",
    "\n",
    "print(\"玩家选择：\", choices[player_choice])\n",
    "print(\"电脑选择：\", choices[computer_choice])\n",
    "\n",
    "if player_choice == computer_choice:\n",
    "    result = \"平局\"\n",
    "elif (player_choice == 1 and computer_choice == 2) or (player_choice == 2 and computer_choice == 3) or (player_choice == 3 and computer_choice == 1):\n",
    "    result = \"玩家获胜\"\n",
    "else:\n",
    "    result = \"电脑获胜\"\n",
    "\n",
    "print(\"结果：\", result)\n"
   ]
  },
  {
   "cell_type": "code",
   "execution_count": 5,
   "metadata": {},
   "outputs": [
    {
     "name": "stdout",
     "output_type": "stream",
     "text": [
      "7\n"
     ]
    }
   ],
   "source": [
    "#作业1 在1-10内随机产生3个数，并打印最大的数\n",
    "a=random.randint(1,10)\n",
    "b=random.randint(1,10)\n",
    "c=random.randint(1,10)\n",
    "if a>b :\n",
    "  if b>c:\n",
    "    print(a)\n",
    "  elif c>a:\n",
    "    print(c)\n",
    "  else :\n",
    "    print(a)\n",
    "else:\n",
    "  if c>b:\n",
    "    print(c)\n",
    "  elif a>c:\n",
    "    print(b)\n",
    "  else:\n",
    "    print(b)"
   ]
  },
  {
   "cell_type": "code",
   "execution_count": 2,
   "metadata": {},
   "outputs": [
    {
     "name": "stdout",
     "output_type": "stream",
     "text": [
      "      *\n",
      "     ***\n",
      "    *****\n",
      "   *******\n",
      "  *********\n",
      " ***********\n"
     ]
    }
   ],
   "source": [
    "#作业2 绘制*的等腰三角形\n",
    "n = 6\n",
    "i = 0\n",
    "while i < n:\n",
    "    print(\"%s%s\" %(\" \"*(n-i),\"*\"*(i*2+1)))\n",
    "    i += 1"
   ]
  },
  {
   "cell_type": "code",
   "execution_count": 1,
   "metadata": {},
   "outputs": [
    {
     "name": "stdout",
     "output_type": "stream",
     "text": [
      "\n",
      "字母的个数：6\n",
      "\n",
      "空格的个数：0\n",
      "\n",
      "数字的个数：0\n",
      "\n",
      "其他字符的个数：0\n"
     ]
    }
   ],
   "source": [
    "#作业3 统计字符个数  isalpha()\n",
    "mystr = input(\"请输入字符串：\")  #调用input()函数输入字符串\n",
    "myleters = 0 #用来统计字母个数，是整型\n",
    "myspace = 0  #用来统计空格个数，是整型\n",
    "mynums = 0  #用来统计数字个数，是整型\n",
    "others = 0  #用来统计其他字符个数，是整型\n",
    "i = 0  #用来统计循环次数，是整型\n",
    "while i < len(mystr):\n",
    "    mychar = mystr[i]  #定义字符串变量，提取字符串中的每一个字符\n",
    "    i = i + 1   #循环次数加1\n",
    "    if mychar.isalpha():#调用字符串isalpha()，统计字母的个数\n",
    "        myleters = myleters + 1\n",
    "\n",
    "    elif mychar.isspace(): #调用空格isspace()，统计空格的个数\n",
    "        myspace = myspace + 1\n",
    "    elif mychar.isdigit(): #调用isdigit()，统计数字的个数\n",
    "        mynums = mynums + 1\n",
    "\n",
    "    else:\n",
    "        others = others + 1\n",
    "print(\"\\n字母的个数：%d\" % myleters)\n",
    "print(\"\\n空格的个数：%d\" % myspace)\n",
    "print(\"\\n数字的个数：%d\" % mynums)\n",
    "print(\"\\n其他字符的个数：%d\" % others)"
   ]
  }
 ],
 "metadata": {
  "kernelspec": {
   "display_name": "base",
   "language": "python",
   "name": "python3"
  },
  "language_info": {
   "codemirror_mode": {
    "name": "ipython",
    "version": 3
   },
   "file_extension": ".py",
   "mimetype": "text/x-python",
   "name": "python",
   "nbconvert_exporter": "python",
   "pygments_lexer": "ipython3",
   "version": "3.9.12"
  },
  "orig_nbformat": 4
 },
 "nbformat": 4,
 "nbformat_minor": 2
}
