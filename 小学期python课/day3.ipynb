{
 "cells": [
  {
   "cell_type": "code",
   "execution_count": 1,
   "metadata": {},
   "outputs": [
    {
     "name": "stdout",
     "output_type": "stream",
     "text": [
      "**********************用户登录系统**********************\n",
      "登录成功！\n"
     ]
    }
   ],
   "source": [
    "users = {'num1': {'name': 'admin', 'passwd': 'admin', 'sex': '1'}, 'num2': {'name': '周文静', 'passwd': '123456', 'sex': '0'}}\n",
    "list1 = []\n",
    "list2 = []\n",
    "for key1 ,value1 in users.items() :\n",
    "    list1.append(value1['name'])\n",
    "    list2.append(value1['passwd'])\n",
    "print(\"用户登录系统\".center(50,'*'))\n",
    "timeout = 0\n",
    "name = input(\"请输入用户的姓名：\")\n",
    "while timeout < 3 :    \n",
    "    if  not name in  list1 :\n",
    "        if timeout == 2 :\n",
    "            print(\"登录失败！\")\n",
    "            break\n",
    "        print(\"用户不存在，请重新输入！\")\n",
    "        timeout = timeout +1\n",
    "        print(\"您还有 %d 次机会（共有3次机会）\" %(3-timeout),\"\\n\")\n",
    "        name = input(\"请输入用户的姓名：\")\n",
    "    else :      \n",
    "        passwd = input(\"请输入用户的密码：\")\n",
    "        if  (name == list1[0] and passwd == list2[0]) or (name == list1[1] and passwd == list2[1]):\n",
    "            print(\"登录成功！\")\n",
    "            break\n",
    "        else :\n",
    "            if timeout == 2 :\n",
    "                print(\"登录失败！\")\n",
    "                break\n",
    "            print(\"密码不正确，请重新输入\")\n",
    "            timeout = timeout +1\n",
    "            print(\"您还有 %d 次机会（共有3次机会）\" %(3-timeout),\"\\n\")\n"
   ]
  },
  {
   "cell_type": "code",
   "execution_count": 2,
   "metadata": {},
   "outputs": [
    {
     "name": "stdout",
     "output_type": "stream",
     "text": [
      "字串出现的次数 4\n"
     ]
    }
   ],
   "source": [
    "# 屏幕输入主串和子串，求子串在主串中出现的次数\n",
    "# 1.计算字符串中子串出现的次数。\n",
    "\n",
    "a = input('请输入字符串')\n",
    "b = input('请输入子串')\n",
    "\n",
    "count_ = (lambda a, b: a.count(b, 0, -1) + 1 if a[-1] == b else a.count(b, 0, -1))(a, b)\n",
    "\n",
    "print('字串出现的次数', count_)\n"
   ]
  },
  {
   "cell_type": "code",
   "execution_count": 3,
   "metadata": {},
   "outputs": [
    {
     "name": "stdout",
     "output_type": "stream",
     "text": [
      "找到指定的值\n"
     ]
    }
   ],
   "source": [
    "students = [\n",
    "    {'姓名': '张三', '年龄': 20, '性别': '男', '身高': 175, '体重': 70},\n",
    "    {'姓名': '李四', '年龄': 22, '性别': '男', '身高': 180, '体重': 75},\n",
    "    {'姓名': '王五', '年龄': 21, '性别': '女', '身高': 165, '体重': 55},\n",
    "    {'姓名': '赵六', '年龄': 19, '性别': '男', '身高': 170, '体重': 65}\n",
    "]\n",
    "\n",
    "search_value = input('')  # 要搜索的值\n",
    "\n",
    "found = False  # 初始化是否找到的标志\n",
    "\n",
    "for student in students:\n",
    "    if search_value in student.values() or int(search_value) in student.values():\n",
    "        found = True\n",
    "        print(\"找到指定的值\")\n",
    "        break\n",
    "\n",
    "if not found:\n",
    "    print(\"未找到指定的值\")\n"
   ]
  }
 ],
 "metadata": {
  "kernelspec": {
   "display_name": "base",
   "language": "python",
   "name": "python3"
  },
  "language_info": {
   "codemirror_mode": {
    "name": "ipython",
    "version": 3
   },
   "file_extension": ".py",
   "mimetype": "text/x-python",
   "name": "python",
   "nbconvert_exporter": "python",
   "pygments_lexer": "ipython3",
   "version": "3.9.12"
  },
  "orig_nbformat": 4
 },
 "nbformat": 4,
 "nbformat_minor": 2
}
